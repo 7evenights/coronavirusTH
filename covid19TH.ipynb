{
  "nbformat": 4,
  "nbformat_minor": 0,
  "metadata": {
    "colab": {
      "name": "covid19TH.ipynb",
      "provenance": [],
      "authorship_tag": "ABX9TyM6rj0Ms267F7OQaUZQVCdH",
      "include_colab_link": true
    },
    "kernelspec": {
      "name": "python3",
      "display_name": "Python 3"
    },
    "language_info": {
      "name": "python"
    }
  },
  "cells": [
    {
      "cell_type": "markdown",
      "metadata": {
        "id": "view-in-github",
        "colab_type": "text"
      },
      "source": [
        "<a href=\"https://colab.research.google.com/github/7evenights/coronavirusTH/blob/main/covid19TH.ipynb\" target=\"_parent\"><img src=\"https://colab.research.google.com/assets/colab-badge.svg\" alt=\"Open In Colab\"/></a>"
      ]
    },
    {
      "cell_type": "code",
      "metadata": {
        "id": "MWr2Og-3cbwd"
      },
      "source": [
        "from bs4 import BeautifulSoup\n",
        "import pandas as pd\n",
        "import requests\n",
        "import re"
      ],
      "execution_count": 2,
      "outputs": []
    },
    {
      "cell_type": "code",
      "metadata": {
        "id": "hQ4m6FENcxEh"
      },
      "source": [
        "url = \"https://ddc.moph.go.th/viralpneumonia/index.php\"\n",
        "response = requests.get(url)"
      ],
      "execution_count": 3,
      "outputs": []
    },
    {
      "cell_type": "code",
      "metadata": {
        "id": "qqfS1VaVc87x"
      },
      "source": [
        "page_html = BeautifulSoup(response.text, \"html.parser\")"
      ],
      "execution_count": 4,
      "outputs": []
    },
    {
      "cell_type": "code",
      "metadata": {
        "id": "-2Ts4ncGdVLr"
      },
      "source": [
        "table = page_html.find(\"div\", class_ = \"modal-content\")"
      ],
      "execution_count": 5,
      "outputs": []
    },
    {
      "cell_type": "code",
      "metadata": {
        "id": "djEdD-GzeL60"
      },
      "source": [
        "title = table.find(\"h5\")\n",
        "title = title.text"
      ],
      "execution_count": null,
      "outputs": []
    },
    {
      "cell_type": "code",
      "metadata": {
        "id": "KaCSJk7GdngN"
      },
      "source": [
        "all_info = table.find_all(\"div\", class_=\"w3-padding-small\")\n",
        "all_info_list = [title]\n",
        "for info in all_info:\n",
        "    all_info_list.append(info.text.strip().replace(\"\\n\", \" \"))"
      ],
      "execution_count": 137,
      "outputs": []
    },
    {
      "cell_type": "markdown",
      "metadata": {
        "id": "pBpZlAT6hzX_"
      },
      "source": [
        "**สรุปสถานการณ์ COVID 19 ในประเทศไทย**"
      ]
    },
    {
      "cell_type": "code",
      "metadata": {
        "colab": {
          "base_uri": "https://localhost:8080/"
        },
        "id": "7mNi5y46gOKY",
        "outputId": "1b231866-ad84-41db-92de-538c71204610"
      },
      "source": [
        "for info in all_info_list:\n",
        "    print(info)"
      ],
      "execution_count": 139,
      "outputs": [
        {
          "output_type": "stream",
          "text": [
            "สถานการณ์ในประเทศไทย\n",
            "วันที่ 18 มิถุนายน 2564\n",
            "เวลา 14.00 น.\n",
            "ผู้ป่วยยืนยัน (คน)\n",
            "สะสม 210,782\n",
            "รายใหม่ 3,058   รุนแรง 1,360   เสียชีวิต 1,577\n",
            "ผู้ป่วยยืนยันกลุ่มเดินทางมาจากต่างประเทศและกักกันในพื้นที่ที่รัฐกำหนด (คน)\n",
            "สะสม 4,464   รายใหม่ 19   เสียชีวิต 4\n",
            "ผู้ป่วยเข้าเกณฑ์เฝ้าระวัง (คน)\n",
            "สะสม 2,159,780   รายใหม่ 9,387\n",
            "ผู้เดินทางที่คัดกรองสะสม (คน)\n",
            "สนามบิน   5,048,607     ท่าเรือ   265,165     ด่านพรมแดน   3,324,685     สตม.แจ้งวัฒนะ   591,943\n"
          ],
          "name": "stdout"
        }
      ]
    }
  ]
}